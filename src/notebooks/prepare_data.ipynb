{
 "cells": [
  {
   "cell_type": "markdown",
   "metadata": {},
   "source": [
    "## Prepare Data"
   ]
  },
  {
   "cell_type": "code",
   "execution_count": 5,
   "metadata": {},
   "outputs": [],
   "source": [
    "import pandas as pd\n",
    "import requests\n",
    "import zipfile\n",
    "import io"
   ]
  },
  {
   "cell_type": "code",
   "execution_count": 6,
   "metadata": {},
   "outputs": [],
   "source": [
    "# URL of the ZIP file\n",
    "year = '2024'\n",
    "month = '01'  # January\n",
    "url = f'https://s3.amazonaws.com/tripdata/{year}{month}-citibike-tripdata.csv.zip'\n",
    "\n",
    "# Step 1: Download the ZIP file\n",
    "response = requests.get(url)\n",
    "response.raise_for_status() "
   ]
  },
  {
   "cell_type": "code",
   "execution_count": 7,
   "metadata": {},
   "outputs": [
    {
     "name": "stderr",
     "output_type": "stream",
     "text": [
      "C:\\Users\\anish\\AppData\\Local\\Temp\\ipykernel_8464\\4056886727.py:5: DtypeWarning: Columns (5) have mixed types. Specify dtype option on import or set low_memory=False.\n",
      "  df = pd.read_csv(csv_file)\n"
     ]
    }
   ],
   "source": [
    "with zipfile.ZipFile(io.BytesIO(response.content)) as z:\n",
    "    file_names = z.namelist()\n",
    "    csv_file_name = [name for name in file_names if name.endswith('.csv')][0]\n",
    "    with z.open(csv_file_name) as csv_file:\n",
    "        df = pd.read_csv(csv_file)"
   ]
  },
  {
   "cell_type": "code",
   "execution_count": 8,
   "metadata": {},
   "outputs": [
    {
     "data": {
      "text/html": [
       "<div>\n",
       "<style scoped>\n",
       "    .dataframe tbody tr th:only-of-type {\n",
       "        vertical-align: middle;\n",
       "    }\n",
       "\n",
       "    .dataframe tbody tr th {\n",
       "        vertical-align: top;\n",
       "    }\n",
       "\n",
       "    .dataframe thead th {\n",
       "        text-align: right;\n",
       "    }\n",
       "</style>\n",
       "<table border=\"1\" class=\"dataframe\">\n",
       "  <thead>\n",
       "    <tr style=\"text-align: right;\">\n",
       "      <th></th>\n",
       "      <th>ride_id</th>\n",
       "      <th>rideable_type</th>\n",
       "      <th>started_at</th>\n",
       "      <th>ended_at</th>\n",
       "      <th>start_station_name</th>\n",
       "      <th>start_station_id</th>\n",
       "      <th>end_station_name</th>\n",
       "      <th>end_station_id</th>\n",
       "      <th>start_lat</th>\n",
       "      <th>start_lng</th>\n",
       "      <th>end_lat</th>\n",
       "      <th>end_lng</th>\n",
       "      <th>member_casual</th>\n",
       "    </tr>\n",
       "  </thead>\n",
       "  <tbody>\n",
       "    <tr>\n",
       "      <th>0</th>\n",
       "      <td>58F2CA262B50E256</td>\n",
       "      <td>classic_bike</td>\n",
       "      <td>2024-01-25 20:39:09</td>\n",
       "      <td>2024-01-25 20:44:07</td>\n",
       "      <td>Broadway &amp; E 14 St</td>\n",
       "      <td>5905.12</td>\n",
       "      <td>Ave A &amp; E 11 St</td>\n",
       "      <td>5703.13</td>\n",
       "      <td>40.734546</td>\n",
       "      <td>-73.990741</td>\n",
       "      <td>40.728547</td>\n",
       "      <td>-73.981759</td>\n",
       "      <td>member</td>\n",
       "    </tr>\n",
       "    <tr>\n",
       "      <th>1</th>\n",
       "      <td>AA7AB6D6E9F8D21B</td>\n",
       "      <td>classic_bike</td>\n",
       "      <td>2024-01-15 18:44:36</td>\n",
       "      <td>2024-01-15 19:19:46</td>\n",
       "      <td>E 16 St &amp; Irving Pl</td>\n",
       "      <td>5938.11</td>\n",
       "      <td>Clermont Ave &amp; Park Ave</td>\n",
       "      <td>4692.01</td>\n",
       "      <td>40.735367</td>\n",
       "      <td>-73.987974</td>\n",
       "      <td>40.695734</td>\n",
       "      <td>-73.971297</td>\n",
       "      <td>member</td>\n",
       "    </tr>\n",
       "    <tr>\n",
       "      <th>2</th>\n",
       "      <td>1830A6C4BA1E1A9D</td>\n",
       "      <td>classic_bike</td>\n",
       "      <td>2024-01-03 19:27:58</td>\n",
       "      <td>2024-01-03 19:58:42</td>\n",
       "      <td>E 16 St &amp; Irving Pl</td>\n",
       "      <td>5938.11</td>\n",
       "      <td>Clermont Ave &amp; Park Ave</td>\n",
       "      <td>4692.01</td>\n",
       "      <td>40.735367</td>\n",
       "      <td>-73.987974</td>\n",
       "      <td>40.695734</td>\n",
       "      <td>-73.971297</td>\n",
       "      <td>member</td>\n",
       "    </tr>\n",
       "    <tr>\n",
       "      <th>3</th>\n",
       "      <td>3995B084A51A1038</td>\n",
       "      <td>classic_bike</td>\n",
       "      <td>2024-01-22 18:29:46</td>\n",
       "      <td>2024-01-22 18:59:57</td>\n",
       "      <td>E 16 St &amp; Irving Pl</td>\n",
       "      <td>5938.11</td>\n",
       "      <td>Clermont Ave &amp; Park Ave</td>\n",
       "      <td>4692.01</td>\n",
       "      <td>40.735367</td>\n",
       "      <td>-73.987974</td>\n",
       "      <td>40.695734</td>\n",
       "      <td>-73.971297</td>\n",
       "      <td>member</td>\n",
       "    </tr>\n",
       "    <tr>\n",
       "      <th>4</th>\n",
       "      <td>23EE6A8979C333B1</td>\n",
       "      <td>classic_bike</td>\n",
       "      <td>2024-01-27 09:55:39</td>\n",
       "      <td>2024-01-27 10:00:48</td>\n",
       "      <td>E 16 St &amp; Irving Pl</td>\n",
       "      <td>5938.11</td>\n",
       "      <td>E 14 St &amp; 1 Ave</td>\n",
       "      <td>5779.10</td>\n",
       "      <td>40.735367</td>\n",
       "      <td>-73.987974</td>\n",
       "      <td>40.731393</td>\n",
       "      <td>-73.982867</td>\n",
       "      <td>member</td>\n",
       "    </tr>\n",
       "  </tbody>\n",
       "</table>\n",
       "</div>"
      ],
      "text/plain": [
       "            ride_id rideable_type           started_at             ended_at  \\\n",
       "0  58F2CA262B50E256  classic_bike  2024-01-25 20:39:09  2024-01-25 20:44:07   \n",
       "1  AA7AB6D6E9F8D21B  classic_bike  2024-01-15 18:44:36  2024-01-15 19:19:46   \n",
       "2  1830A6C4BA1E1A9D  classic_bike  2024-01-03 19:27:58  2024-01-03 19:58:42   \n",
       "3  3995B084A51A1038  classic_bike  2024-01-22 18:29:46  2024-01-22 18:59:57   \n",
       "4  23EE6A8979C333B1  classic_bike  2024-01-27 09:55:39  2024-01-27 10:00:48   \n",
       "\n",
       "    start_station_name start_station_id         end_station_name  \\\n",
       "0   Broadway & E 14 St          5905.12          Ave A & E 11 St   \n",
       "1  E 16 St & Irving Pl          5938.11  Clermont Ave & Park Ave   \n",
       "2  E 16 St & Irving Pl          5938.11  Clermont Ave & Park Ave   \n",
       "3  E 16 St & Irving Pl          5938.11  Clermont Ave & Park Ave   \n",
       "4  E 16 St & Irving Pl          5938.11          E 14 St & 1 Ave   \n",
       "\n",
       "  end_station_id  start_lat  start_lng    end_lat    end_lng member_casual  \n",
       "0        5703.13  40.734546 -73.990741  40.728547 -73.981759        member  \n",
       "1        4692.01  40.735367 -73.987974  40.695734 -73.971297        member  \n",
       "2        4692.01  40.735367 -73.987974  40.695734 -73.971297        member  \n",
       "3        4692.01  40.735367 -73.987974  40.695734 -73.971297        member  \n",
       "4        5779.10  40.735367 -73.987974  40.731393 -73.982867        member  "
      ]
     },
     "execution_count": 8,
     "metadata": {},
     "output_type": "execute_result"
    }
   ],
   "source": [
    "df.head()"
   ]
  }
 ],
 "metadata": {
  "kernelspec": {
   "display_name": "citi-bike-MUFrC4DK",
   "language": "python",
   "name": "python3"
  },
  "language_info": {
   "codemirror_mode": {
    "name": "ipython",
    "version": 3
   },
   "file_extension": ".py",
   "mimetype": "text/x-python",
   "name": "python",
   "nbconvert_exporter": "python",
   "pygments_lexer": "ipython3",
   "version": "3.11.9"
  }
 },
 "nbformat": 4,
 "nbformat_minor": 2
}
