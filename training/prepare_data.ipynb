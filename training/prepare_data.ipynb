{
 "cells": [
  {
   "cell_type": "markdown",
   "metadata": {},
   "source": [
    "## Prepare Data"
   ]
  },
  {
   "cell_type": "code",
   "execution_count": 19,
   "metadata": {},
   "outputs": [],
   "source": [
    "import pandas as pd\n",
    "import requests\n",
    "import zipfile\n",
    "import io"
   ]
  },
  {
   "cell_type": "code",
   "execution_count": 20,
   "metadata": {},
   "outputs": [],
   "source": [
    "from sklearn.feature_extraction import DictVectorizer"
   ]
  },
  {
   "cell_type": "code",
   "execution_count": 21,
   "metadata": {},
   "outputs": [],
   "source": [
    "# URL of the ZIP file\n",
    "# year = '2024'\n",
    "# month = '01'  # January\n",
    "# url = f'https://s3.amazonaws.com/tripdata/{year}{month}-citibike-tripdata.csv.zip'\n",
    "\n",
    "# # Step 1: Download the ZIP file\n",
    "# response = requests.get(url)\n",
    "# response.raise_for_status() "
   ]
  },
  {
   "cell_type": "code",
   "execution_count": 22,
   "metadata": {},
   "outputs": [],
   "source": [
    "# with zipfile.ZipFile(io.BytesIO(response.content)) as z:\n",
    "#     file_names = z.namelist()\n",
    "#     csv_file_name = [name for name in file_names if name.endswith('.csv')][0]\n",
    "#     with z.open(csv_file_name) as csv_file:\n",
    "#         df = pd.read_csv(csv_file)"
   ]
  },
  {
   "cell_type": "code",
   "execution_count": 23,
   "metadata": {},
   "outputs": [],
   "source": [
    "# Merging the data files\n",
    "# df1 = pd.read_csv(\"data\\\\202403-citibike-tripdata_1.csv\")\n",
    "# df2 = pd.read_csv(\"data\\\\202403-citibike-tripdata_2.csv\")\n",
    "# df3 = pd.read_csv(\"data\\\\202403-citibike-tripdata_3.csv\")\n",
    "\n",
    "# merged_df = pd.concat([df1, df2,df3], ignore_index=True)\n",
    "\n",
    "# merged_df.to_csv(\"data/202403-citibike-tripdata.csv\", index=False)"
   ]
  },
  {
   "cell_type": "code",
   "execution_count": 24,
   "metadata": {},
   "outputs": [],
   "source": [
    "train_df = pd.read_csv(\"training_mage/data/JC-202401-citibike-tripdata.csv\")"
   ]
  },
  {
   "cell_type": "code",
   "execution_count": 26,
   "metadata": {},
   "outputs": [],
   "source": [
    "val_df = pd.read_csv(\"training_mage/data/JC-202402-citibike-tripdata.csv\")"
   ]
  },
  {
   "cell_type": "code",
   "execution_count": 27,
   "metadata": {},
   "outputs": [],
   "source": [
    "train_df = train_df[train_df.notna()]"
   ]
  },
  {
   "cell_type": "code",
   "execution_count": 28,
   "metadata": {},
   "outputs": [],
   "source": [
    "val_df = val_df[val_df.notna()]"
   ]
  },
  {
   "cell_type": "markdown",
   "metadata": {},
   "source": [
    "### Computing target variable: Duration"
   ]
  },
  {
   "cell_type": "code",
   "execution_count": 29,
   "metadata": {},
   "outputs": [],
   "source": [
    "train_df[\"started_at\"] = pd.to_datetime(train_df[\"started_at\"])\n",
    "train_df[\"ended_at\"] = pd.to_datetime(train_df[\"ended_at\"])\n",
    "\n",
    "val_df[\"started_at\"] = pd.to_datetime(val_df[\"started_at\"])\n",
    "val_df[\"ended_at\"] = pd.to_datetime(val_df[\"ended_at\"])"
   ]
  },
  {
   "cell_type": "code",
   "execution_count": 30,
   "metadata": {},
   "outputs": [],
   "source": [
    "train_df[\"duration\"] = (train_df[\"ended_at\"] - train_df[\"started_at\"]).dt.total_seconds() / 60\n",
    "val_df[\"duration\"] = (val_df[\"ended_at\"] - val_df[\"started_at\"]).dt.total_seconds() / 60"
   ]
  },
  {
   "cell_type": "code",
   "execution_count": 31,
   "metadata": {},
   "outputs": [],
   "source": [
    "# Dropping outliers\n",
    "train_df = train_df[\n",
    "    (train_df['duration'] >= 0) & \n",
    "    (train_df['duration'] <= 60)\n",
    "]\n",
    "\n",
    "\n",
    "val_df = val_df[\n",
    "    (val_df['duration'] >= 0) & \n",
    "    (val_df['duration'] <= 60)\n",
    "]"
   ]
  },
  {
   "cell_type": "code",
   "execution_count": 32,
   "metadata": {},
   "outputs": [],
   "source": [
    "categorical_features = [\n",
    "        'start_station_id',\n",
    "        'end_station_id'\n",
    "    ]\n",
    "\n",
    "train_df[categorical_features] = train_df[categorical_features].astype(str)\n",
    "\n",
    "val_df[categorical_features] = val_df[categorical_features].astype(str)"
   ]
  },
  {
   "cell_type": "code",
   "execution_count": 33,
   "metadata": {},
   "outputs": [],
   "source": [
    "train_df[\"start_end_id\"] = train_df[\"start_station_id\"] + \"_\" + train_df[\"end_station_id\"]\n",
    "val_df[\"start_end_id\"] = val_df[\"start_station_id\"] + \"_\" + val_df[\"end_station_id\"]"
   ]
  },
  {
   "cell_type": "code",
   "execution_count": 34,
   "metadata": {},
   "outputs": [],
   "source": [
    "categorical= [\"start_end_id\"]\n",
    "target = [\"duration\"]"
   ]
  },
  {
   "cell_type": "code",
   "execution_count": 35,
   "metadata": {},
   "outputs": [
    {
     "data": {
      "text/plain": [
       "4180"
      ]
     },
     "execution_count": 35,
     "metadata": {},
     "output_type": "execute_result"
    }
   ],
   "source": [
    "len(train_df[\"start_end_id\"].unique())"
   ]
  },
  {
   "cell_type": "code",
   "execution_count": 36,
   "metadata": {},
   "outputs": [],
   "source": [
    "# One hot encoding\n",
    "dv = DictVectorizer()\n",
    "train_dicts = train_df[categorical].to_dict(orient='records')\n",
    "val_dicts = val_df[categorical].to_dict(orient='records')\n",
    "X_train = dv.fit_transform(train_dicts)\n",
    "X_val = dv.transform(val_dicts)\n",
    "y_train = train_df[target]\n",
    "y_val = val_df[target]"
   ]
  },
  {
   "cell_type": "code",
   "execution_count": 37,
   "metadata": {},
   "outputs": [
    {
     "data": {
      "text/plain": [
       "4180"
      ]
     },
     "execution_count": 37,
     "metadata": {},
     "output_type": "execute_result"
    }
   ],
   "source": [
    "len(dv.feature_names_)"
   ]
  },
  {
   "cell_type": "markdown",
   "metadata": {},
   "source": [
    "### Training the model"
   ]
  },
  {
   "cell_type": "code",
   "execution_count": 38,
   "metadata": {},
   "outputs": [],
   "source": [
    "from sklearn.linear_model import LinearRegression\n",
    "from sklearn.metrics import root_mean_squared_error"
   ]
  },
  {
   "cell_type": "code",
   "execution_count": 39,
   "metadata": {},
   "outputs": [
    {
     "data": {
      "text/plain": [
       "4.329270779578182"
      ]
     },
     "execution_count": 39,
     "metadata": {},
     "output_type": "execute_result"
    }
   ],
   "source": [
    "lr = LinearRegression()\n",
    "\n",
    "lr.fit(X_train,y_train)\n",
    "\n",
    "y_pred = lr.predict(X_train)\n",
    "\n",
    "root_mean_squared_error(y_pred=y_pred,y_true=y_train)"
   ]
  },
  {
   "cell_type": "code",
   "execution_count": 40,
   "metadata": {},
   "outputs": [
    {
     "data": {
      "text/plain": [
       "5.262920515863876"
      ]
     },
     "execution_count": 40,
     "metadata": {},
     "output_type": "execute_result"
    }
   ],
   "source": [
    "y_val_pred = lr.predict(X_val)\n",
    "\n",
    "root_mean_squared_error(y_pred=y_val_pred, y_true=y_val)"
   ]
  },
  {
   "cell_type": "code",
   "execution_count": null,
   "metadata": {},
   "outputs": [],
   "source": []
  }
 ],
 "metadata": {
  "kernelspec": {
   "display_name": "citi-bike-MUFrC4DK",
   "language": "python",
   "name": "python3"
  },
  "language_info": {
   "codemirror_mode": {
    "name": "ipython",
    "version": 3
   },
   "file_extension": ".py",
   "mimetype": "text/x-python",
   "name": "python",
   "nbconvert_exporter": "python",
   "pygments_lexer": "ipython3",
   "version": "3.11.9"
  }
 },
 "nbformat": 4,
 "nbformat_minor": 2
}
